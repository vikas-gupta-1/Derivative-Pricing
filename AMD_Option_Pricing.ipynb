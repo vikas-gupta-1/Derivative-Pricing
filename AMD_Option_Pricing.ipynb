import yfinance as yf
import pandas as pd
import numpy as np
import math
from scipy import stats

# Fetch AMD stock data
amd = yf.Ticker("AMD")
data = amd.history(period="5y")

# Check the columns in the data
print(data.columns)  # This will help you confirm the available columns

# If 'Adj Close' doesn't exist, use 'Close'
data['Returns'] = data['Close'].pct_change()  # Use 'Close' instead of 'Adj Close'

# Calculate annual returns in percentage form
annual_returns = data['Returns'].resample('YE').sum() * 100  # Convert to percentage and use 'YE'

# Get the upswing and downturn growth rates
upswing_rate = annual_returns[annual_returns > 0].mean()  # Mean of positive returns (Upswing)
downturn_rate = annual_returns[annual_returns < 0].mean()  # Mean of negative returns (Downturn)

# Calculate mean, median, mode, standard deviation, and variance of returns
mean_return = annual_returns.mean()  # Mean
median_return = annual_returns.median()  # Median

# Calculate the mode
mode_result = stats.mode(annual_returns)

# If there's more than one mode, mode_result.mode is an array
# If it's a scalar, we simply get the first mode
mode_return = mode_result.mode[0] if isinstance(mode_result.mode, np.ndarray) else mode_result.mode

std_dev_return = annual_returns.std()  # Standard Deviation
variance_return = annual_returns.var()  # Variance


# Function to fetch the latest AMD stock price
def get_amd_stock_price():
    amd = yf.Ticker("AMD")
    data = amd.history(period="1d")  # Get the latest stock price
    return data["Close"].iloc[-1]  # Return the latest closing price

# Binomial Model for European Option Pricing
def binomial_option_price(S, K, T, r, g_u, g_d, option_type, n=100):
    """
    Computes the price of a European option using the Binomial Model.

    Parameters:
    - S: Current stock price.
    - K: Strike price.
    - T: Time to maturity (years).
    - r: Risk-free interest rate (continuously compounded).
    - g_u: Growth rate during an up move.
    - g_d: Growth rate during a down move.
    - option_type: "call" or "put".
    - n: Number of steps in the binomial model (default 100).

    Returns:
    - Computed price of the option.
    """
    dt = T / n  # Time step size
    u = 1 + g_u  # Upward factor
    d = 1 + g_d  # Downward factor
    p = (math.exp(r * dt) - d) / (u - d)  # Risk-neutral probability

    # Option value at maturity
    option_values = np.zeros(n + 1)
    for i in range(n + 1):
        stock_price = S * (u ** (n - i)) * (d ** i)
        if option_type == "call":
            option_values[i] = max(0, stock_price - K)
        elif option_type == "put":
            option_values[i] = max(0, K - stock_price)

    # Backward induction
    for j in range(n - 1, -1, -1):
        for i in range(j + 1):
            option_values[i] = math.exp(-r * dt) * (p * option_values[i] + (1 - p) * option_values[i + 1])
    
    return option_values[0]

# Verify Call-Put Parity: Call Price - Put Price = Stock Price - PV(Strike Price)
def verify_call_put_parity(call_price, put_price, S, K, r, T):
    lhs = call_price - put_price  # Left-hand side of parity equation
    rhs = S - K * math.exp(-r * T)  # Right-hand side of parity equation
    return math.isclose(lhs, rhs, rel_tol=1e-4)

# Main Execution
if __name__ == "__main__":
    # Given Inputs
    S = get_amd_stock_price()  # Fetch latest AMD stock price
    K = 100  # Strike price
    T = 2  # Time to maturity in years
    r = 0.04  # 4% risk-free rate (continuous)
    g_u = upswing_rate / 100  # Convert upswing rate to decimal
    g_d = downturn_rate / 100  # Convert downturn rate to decimal

    # Compute Call and Put Prices
    call_price = binomial_option_price(S, K, T, r, g_u, g_d, "call")
    put_price = binomial_option_price(S, K, T, r, g_u, g_d, "put")

    # Verify Call-Put Parity
    parity_holds = verify_call_put_parity(call_price, put_price, S, K, r, T)

    # Print Results
    print(f"Latest AMD Stock Price: ${S:.2f}")
    print(f"European Call Option Price: ${call_price:.2f}")
    print(f"European Put Option Price: ${put_price:.2f}")
    print(f"Call-Put Parity Holds: {parity_holds}")

    
    # Create a DataFrame to store results
    df = pd.DataFrame({
        "Option Type": ["Call", "Put"],
        "Option Price": [call_price, put_price]
    })

    # Print the results in tabular form
    print("\nOption Prices:")
    print(df)
    

# Print the calculated upswing and downturn growth rates

print(f"Upswing Growth Rate: {upswing_rate:.2f}%")
print(f"Downturn Growth Rate: {downturn_rate:.2f}%")
# Print statistical results
print(f"\nAnnual Returns Statistics:")
print(f"Mean: {mean_return:.2f}%")
print(f"Median: {median_return:.2f}%")
print(f"Mode: {mode_return if mode_return is not None else 'No distinct mode'}")
print(f"Standard Deviation: {std_dev_return:.2f}%")
print(f"Variance: {variance_return:.2f}%")



Latest AMD Stock Price: $103.22
European Call Option Price: $99.87
European Put Option Price: $88.96
Call-Put Parity Holds: True

Option Prices:

  Option Type  Option Price
0        Call     99.870684
1         Put     88.962317

Upswing Growth Rate: 74.42%
Downturn Growth Rate: -27.65%

Annual Returns Statistics:
Mean: 23.39%
Median: 22.81%
Mode: -61.119021011757226
Standard Deviation: 60.14%
Variance: 3617.11%
